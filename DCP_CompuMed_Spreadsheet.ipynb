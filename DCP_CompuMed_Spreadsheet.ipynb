{
 "cells": [
  {
   "cell_type": "code",
   "execution_count": 1,
   "metadata": {},
   "outputs": [],
   "source": [
    "import pandas as pd"
   ]
  },
  {
   "cell_type": "code",
   "execution_count": 2,
   "metadata": {},
   "outputs": [],
   "source": [
    "dcp = pd.read_csv(\"DCP CompuMed spreadsheet.csv\")"
   ]
  },
  {
   "cell_type": "code",
   "execution_count": 3,
   "metadata": {},
   "outputs": [
    {
     "data": {
      "text/html": [
       "<div>\n",
       "<style scoped>\n",
       "    .dataframe tbody tr th:only-of-type {\n",
       "        vertical-align: middle;\n",
       "    }\n",
       "\n",
       "    .dataframe tbody tr th {\n",
       "        vertical-align: top;\n",
       "    }\n",
       "\n",
       "    .dataframe thead th {\n",
       "        text-align: right;\n",
       "    }\n",
       "</style>\n",
       "<table border=\"1\" class=\"dataframe\">\n",
       "  <thead>\n",
       "    <tr style=\"text-align: right;\">\n",
       "      <th></th>\n",
       "      <th>Exam ID</th>\n",
       "      <th>Patient ID</th>\n",
       "      <th>Patient Last, First</th>\n",
       "      <th>Age</th>\n",
       "      <th>DOB</th>\n",
       "      <th>Received Time</th>\n",
       "      <th>Study Time</th>\n",
       "      <th>Completed Time</th>\n",
       "      <th>Over Read</th>\n",
       "      <th>Physician&lt;br /&gt;Last Name</th>\n",
       "      <th>Physician&lt;br /&gt;First Name</th>\n",
       "      <th>Gender</th>\n",
       "      <th>Notes</th>\n",
       "    </tr>\n",
       "  </thead>\n",
       "  <tbody>\n",
       "    <tr>\n",
       "      <th>0</th>\n",
       "      <td>389081</td>\n",
       "      <td>DCP001</td>\n",
       "      <td>EV, EV</td>\n",
       "      <td>38</td>\n",
       "      <td>10/11/1980</td>\n",
       "      <td>09/07/18 09:31</td>\n",
       "      <td>08/18/18 02:19</td>\n",
       "      <td>09/07/18 16:27</td>\n",
       "      <td>Normal sinus rhythm\\r\\nWithin normal limits</td>\n",
       "      <td>Shiroff</td>\n",
       "      <td>Robert</td>\n",
       "      <td>F</td>\n",
       "      <td>NaN</td>\n",
       "    </tr>\n",
       "    <tr>\n",
       "      <th>1</th>\n",
       "      <td>389107</td>\n",
       "      <td>DCP002</td>\n",
       "      <td>RF, RF</td>\n",
       "      <td>52</td>\n",
       "      <td>3/24/1966</td>\n",
       "      <td>09/07/18 09:31</td>\n",
       "      <td>08/18/18 15:43</td>\n",
       "      <td>09/07/18 17:24</td>\n",
       "      <td>Normal sinus rhythm\\r\\nSlow R wave V1-3\\r\\nMay...</td>\n",
       "      <td>Shiroff</td>\n",
       "      <td>Robert</td>\n",
       "      <td>M</td>\n",
       "      <td>NaN</td>\n",
       "    </tr>\n",
       "    <tr>\n",
       "      <th>2</th>\n",
       "      <td>389106</td>\n",
       "      <td>DCP002</td>\n",
       "      <td>RF, RF</td>\n",
       "      <td>52</td>\n",
       "      <td>3/24/1966</td>\n",
       "      <td>09/07/18 09:31</td>\n",
       "      <td>08/18/18 10:42</td>\n",
       "      <td>09/07/18 17:00</td>\n",
       "      <td>Normal sinus rhythm\\r\\nSlow R wave progression...</td>\n",
       "      <td>Shiroff</td>\n",
       "      <td>Robert</td>\n",
       "      <td>M</td>\n",
       "      <td>NaN</td>\n",
       "    </tr>\n",
       "    <tr>\n",
       "      <th>3</th>\n",
       "      <td>389088</td>\n",
       "      <td>DCP003</td>\n",
       "      <td>JE, JE</td>\n",
       "      <td>46</td>\n",
       "      <td>1/5/1972</td>\n",
       "      <td>09/07/18 09:31</td>\n",
       "      <td>08/18/18 10:46</td>\n",
       "      <td>09/07/18 16:49</td>\n",
       "      <td>Normal sinus rhythm\\r\\nBorderline low voltage ...</td>\n",
       "      <td>Shiroff</td>\n",
       "      <td>Robert</td>\n",
       "      <td>F</td>\n",
       "      <td>NaN</td>\n",
       "    </tr>\n",
       "    <tr>\n",
       "      <th>4</th>\n",
       "      <td>389109</td>\n",
       "      <td>DCP004</td>\n",
       "      <td>RK, RK</td>\n",
       "      <td>36</td>\n",
       "      <td>12/2/1981</td>\n",
       "      <td>09/07/18 09:31</td>\n",
       "      <td>08/18/18 11:01</td>\n",
       "      <td>09/07/18 16:29</td>\n",
       "      <td>Normal sinus rhythm\\r\\nIntraventricular conduc...</td>\n",
       "      <td>Shiroff</td>\n",
       "      <td>Robert</td>\n",
       "      <td>F</td>\n",
       "      <td>NaN</td>\n",
       "    </tr>\n",
       "  </tbody>\n",
       "</table>\n",
       "</div>"
      ],
      "text/plain": [
       "   Exam ID Patient ID Patient Last, First  Age         DOB   Received Time  \\\n",
       "0   389081     DCP001              EV, EV   38  10/11/1980  09/07/18 09:31   \n",
       "1   389107     DCP002              RF, RF   52   3/24/1966  09/07/18 09:31   \n",
       "2   389106     DCP002              RF, RF   52   3/24/1966  09/07/18 09:31   \n",
       "3   389088     DCP003              JE, JE   46    1/5/1972  09/07/18 09:31   \n",
       "4   389109     DCP004              RK, RK   36   12/2/1981  09/07/18 09:31   \n",
       "\n",
       "       Study Time  Completed Time  \\\n",
       "0  08/18/18 02:19  09/07/18 16:27   \n",
       "1  08/18/18 15:43  09/07/18 17:24   \n",
       "2  08/18/18 10:42  09/07/18 17:00   \n",
       "3  08/18/18 10:46  09/07/18 16:49   \n",
       "4  08/18/18 11:01  09/07/18 16:29   \n",
       "\n",
       "                                           Over Read Physician<br />Last Name  \\\n",
       "0        Normal sinus rhythm\\r\\nWithin normal limits                  Shiroff   \n",
       "1  Normal sinus rhythm\\r\\nSlow R wave V1-3\\r\\nMay...                  Shiroff   \n",
       "2  Normal sinus rhythm\\r\\nSlow R wave progression...                  Shiroff   \n",
       "3  Normal sinus rhythm\\r\\nBorderline low voltage ...                  Shiroff   \n",
       "4  Normal sinus rhythm\\r\\nIntraventricular conduc...                  Shiroff   \n",
       "\n",
       "  Physician<br />First Name Gender  Notes  \n",
       "0                    Robert      F    NaN  \n",
       "1                    Robert      M    NaN  \n",
       "2                    Robert      M    NaN  \n",
       "3                    Robert      F    NaN  \n",
       "4                    Robert      F    NaN  "
      ]
     },
     "execution_count": 3,
     "metadata": {},
     "output_type": "execute_result"
    }
   ],
   "source": [
    "dcp.head(5)"
   ]
  },
  {
   "cell_type": "code",
   "execution_count": 4,
   "metadata": {},
   "outputs": [
    {
     "name": "stdout",
     "output_type": "stream",
     "text": [
      "<class 'pandas.core.frame.DataFrame'>\n",
      "RangeIndex: 29 entries, 0 to 28\n",
      "Data columns (total 13 columns):\n",
      "Exam ID                      29 non-null int64\n",
      "Patient ID                   29 non-null object\n",
      "Patient Last, First          29 non-null object\n",
      "Age                          29 non-null int64\n",
      "DOB                          29 non-null object\n",
      "Received Time                29 non-null object\n",
      "Study Time                   29 non-null object\n",
      "Completed Time               29 non-null object\n",
      "Over Read                    29 non-null object\n",
      "Physician<br />Last Name     29 non-null object\n",
      "Physician<br />First Name    29 non-null object\n",
      "Gender                       29 non-null object\n",
      "Notes                        0 non-null float64\n",
      "dtypes: float64(1), int64(2), object(10)\n",
      "memory usage: 3.0+ KB\n"
     ]
    }
   ],
   "source": [
    "dcp.info()"
   ]
  },
  {
   "cell_type": "markdown",
   "metadata": {},
   "source": [
    "## Need Modify Issues\n",
    "\n",
    "1. Cloumn Names need to modify\n",
    "    * Replace spaces with underscores\n",
    "    * Remove special characters\n",
    "    * Make all labels to lowercase\n",
    "    * Shorten any long column names\n",
    "2. Convert columns to numeric if need\n",
    "3. Change data to DateTime if data is date\n",
    "----\n",
    "Continue Adding"
   ]
  },
  {
   "cell_type": "code",
   "execution_count": 5,
   "metadata": {},
   "outputs": [
    {
     "data": {
      "text/plain": [
       "Index(['Exam ID', 'Patient ID', 'Patient Last, First', 'Age', 'DOB',\n",
       "       'Received Time', 'Study Time', 'Completed Time', 'Over Read',\n",
       "       'Physician<br />Last Name', 'Physician<br />First Name', 'Gender',\n",
       "       'Notes'],\n",
       "      dtype='object')"
      ]
     },
     "execution_count": 5,
     "metadata": {},
     "output_type": "execute_result"
    }
   ],
   "source": [
    "dcp.columns"
   ]
  },
  {
   "cell_type": "code",
   "execution_count": 6,
   "metadata": {},
   "outputs": [
    {
     "data": {
      "text/plain": [
       "Index(['exam_id', 'patient_id', 'patient_last_first', 'age', 'dob',\n",
       "       'received_time', 'study_time', 'completed_time', 'over_read',\n",
       "       'physician_last_name', 'physician_first_name', 'gender', 'notes'],\n",
       "      dtype='object')"
      ]
     },
     "execution_count": 6,
     "metadata": {},
     "output_type": "execute_result"
    }
   ],
   "source": [
    "def clean_col(col):\n",
    "    col = col.strip() # remove whitespaces\n",
    "    col = col.replace(\" \", \"_\") # replace spaces to _\n",
    "    col = col.replace(\"<\", \"\")\n",
    "    col = col.replace(\"br\",\"\")\n",
    "    col = col.replace(\"/\",\"\")\n",
    "    col = col.replace(\">\",\"\")\n",
    "    col = col.replace(\",\",\"\")\n",
    "    col = col.lower() # lowercase all names\n",
    "    return col\n",
    "\n",
    "new_column = []\n",
    "for x in dcp.columns:\n",
    "    clean = clean_col(x)\n",
    "    new_column.append(clean)\n",
    "    \n",
    "dcp.columns = new_column\n",
    "dcp.columns"
   ]
  },
  {
   "cell_type": "code",
   "execution_count": 7,
   "metadata": {},
   "outputs": [
    {
     "data": {
      "text/plain": [
       "array(['DCP001', 'DCP002', 'DCP003', 'DCP004', 'DCP005', 'DCP006',\n",
       "       'DCP007', 'DCP008', 'DCP010', 'DCP011', 'DCP012', 'DCP013',\n",
       "       'DCP014', 'DCP015', 'DCP016', 'DCP017', 'DCP018', 'DCP019',\n",
       "       'DCP020', 'DCP021', 'DCP022', 'DCP023', 'DCP024', 'DCP025',\n",
       "       'DCP026', 'DCP027', 'DCP029', 'DCP030'], dtype=object)"
      ]
     },
     "execution_count": 7,
     "metadata": {},
     "output_type": "execute_result"
    }
   ],
   "source": [
    "dcp[\"patient_id\"].unique()"
   ]
  },
  {
   "cell_type": "code",
   "execution_count": 8,
   "metadata": {},
   "outputs": [
    {
     "data": {
      "text/plain": [
       "array(['001', '002', '003', '004', '005', '006', '007', '008', '010',\n",
       "       '011', '012', '013', '014', '015', '016', '017', '018', '019',\n",
       "       '020', '021', '022', '023', '024', '025', '026', '027', '029',\n",
       "       '030'], dtype=object)"
      ]
     },
     "execution_count": 8,
     "metadata": {},
     "output_type": "execute_result"
    }
   ],
   "source": [
    "dcp[\"patient_id\"] = dcp[\"patient_id\"].str.replace(\"DCP\", \"\")\n",
    "dcp[\"patient_id\"].unique()"
   ]
  },
  {
   "cell_type": "code",
   "execution_count": 9,
   "metadata": {},
   "outputs": [
    {
     "data": {
      "text/plain": [
       "exam_id                   int64\n",
       "patient_id                int32\n",
       "patient_last_first       object\n",
       "age                       int64\n",
       "dob                      object\n",
       "received_time            object\n",
       "study_time               object\n",
       "completed_time           object\n",
       "over_read                object\n",
       "physician_last_name      object\n",
       "physician_first_name     object\n",
       "gender                   object\n",
       "notes                   float64\n",
       "dtype: object"
      ]
     },
     "execution_count": 9,
     "metadata": {},
     "output_type": "execute_result"
    }
   ],
   "source": [
    "dcp[\"patient_id\"] = dcp[\"patient_id\"].astype(int)\n",
    "dcp.dtypes"
   ]
  },
  {
   "cell_type": "code",
   "execution_count": null,
   "metadata": {},
   "outputs": [],
   "source": []
  }
 ],
 "metadata": {
  "kernelspec": {
   "display_name": "Python 3",
   "language": "python",
   "name": "python3"
  },
  "language_info": {
   "codemirror_mode": {
    "name": "ipython",
    "version": 3
   },
   "file_extension": ".py",
   "mimetype": "text/x-python",
   "name": "python",
   "nbconvert_exporter": "python",
   "pygments_lexer": "ipython3",
   "version": "3.7.1"
  }
 },
 "nbformat": 4,
 "nbformat_minor": 2
}
