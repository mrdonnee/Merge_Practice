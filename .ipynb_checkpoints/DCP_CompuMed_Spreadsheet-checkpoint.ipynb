{
 "cells": [
  {
   "cell_type": "code",
   "execution_count": 1,
   "metadata": {},
   "outputs": [],
   "source": [
    "import pandas as pd"
   ]
  },
  {
   "cell_type": "code",
   "execution_count": 2,
   "metadata": {},
   "outputs": [],
   "source": [
    "dcp = pd.read_csv(\"DCP CompuMed spreadsheet.csv\")"
   ]
  },
  {
   "cell_type": "code",
   "execution_count": 3,
   "metadata": {},
   "outputs": [
    {
     "data": {
      "text/html": [
       "<div>\n",
       "<style scoped>\n",
       "    .dataframe tbody tr th:only-of-type {\n",
       "        vertical-align: middle;\n",
       "    }\n",
       "\n",
       "    .dataframe tbody tr th {\n",
       "        vertical-align: top;\n",
       "    }\n",
       "\n",
       "    .dataframe thead th {\n",
       "        text-align: right;\n",
       "    }\n",
       "</style>\n",
       "<table border=\"1\" class=\"dataframe\">\n",
       "  <thead>\n",
       "    <tr style=\"text-align: right;\">\n",
       "      <th></th>\n",
       "      <th>Exam ID</th>\n",
       "      <th>Patient ID</th>\n",
       "      <th>Patient Last, First</th>\n",
       "      <th>Age</th>\n",
       "      <th>DOB</th>\n",
       "      <th>Received Time</th>\n",
       "      <th>Study Time</th>\n",
       "      <th>Completed Time</th>\n",
       "      <th>Over Read</th>\n",
       "      <th>Physician&lt;br /&gt;Last Name</th>\n",
       "      <th>Physician&lt;br /&gt;First Name</th>\n",
       "      <th>Gender</th>\n",
       "      <th>Notes</th>\n",
       "    </tr>\n",
       "  </thead>\n",
       "  <tbody>\n",
       "    <tr>\n",
       "      <th>0</th>\n",
       "      <td>389081</td>\n",
       "      <td>DCP001</td>\n",
       "      <td>EV, EV</td>\n",
       "      <td>38</td>\n",
       "      <td>10/11/1980</td>\n",
       "      <td>09/07/18 09:31</td>\n",
       "      <td>08/18/18 02:19</td>\n",
       "      <td>09/07/18 16:27</td>\n",
       "      <td>Normal sinus rhythm\\r\\nWithin normal limits</td>\n",
       "      <td>Shiroff</td>\n",
       "      <td>Robert</td>\n",
       "      <td>F</td>\n",
       "      <td>NaN</td>\n",
       "    </tr>\n",
       "    <tr>\n",
       "      <th>1</th>\n",
       "      <td>389107</td>\n",
       "      <td>DCP002</td>\n",
       "      <td>RF, RF</td>\n",
       "      <td>52</td>\n",
       "      <td>3/24/1966</td>\n",
       "      <td>09/07/18 09:31</td>\n",
       "      <td>08/18/18 15:43</td>\n",
       "      <td>09/07/18 17:24</td>\n",
       "      <td>Normal sinus rhythm\\r\\nSlow R wave V1-3\\r\\nMay...</td>\n",
       "      <td>Shiroff</td>\n",
       "      <td>Robert</td>\n",
       "      <td>M</td>\n",
       "      <td>NaN</td>\n",
       "    </tr>\n",
       "    <tr>\n",
       "      <th>2</th>\n",
       "      <td>389106</td>\n",
       "      <td>DCP002</td>\n",
       "      <td>RF, RF</td>\n",
       "      <td>52</td>\n",
       "      <td>3/24/1966</td>\n",
       "      <td>09/07/18 09:31</td>\n",
       "      <td>08/18/18 10:42</td>\n",
       "      <td>09/07/18 17:00</td>\n",
       "      <td>Normal sinus rhythm\\r\\nSlow R wave progression...</td>\n",
       "      <td>Shiroff</td>\n",
       "      <td>Robert</td>\n",
       "      <td>M</td>\n",
       "      <td>NaN</td>\n",
       "    </tr>\n",
       "    <tr>\n",
       "      <th>3</th>\n",
       "      <td>389088</td>\n",
       "      <td>DCP003</td>\n",
       "      <td>JE, JE</td>\n",
       "      <td>46</td>\n",
       "      <td>1/5/1972</td>\n",
       "      <td>09/07/18 09:31</td>\n",
       "      <td>08/18/18 10:46</td>\n",
       "      <td>09/07/18 16:49</td>\n",
       "      <td>Normal sinus rhythm\\r\\nBorderline low voltage ...</td>\n",
       "      <td>Shiroff</td>\n",
       "      <td>Robert</td>\n",
       "      <td>F</td>\n",
       "      <td>NaN</td>\n",
       "    </tr>\n",
       "    <tr>\n",
       "      <th>4</th>\n",
       "      <td>389109</td>\n",
       "      <td>DCP004</td>\n",
       "      <td>RK, RK</td>\n",
       "      <td>36</td>\n",
       "      <td>12/2/1981</td>\n",
       "      <td>09/07/18 09:31</td>\n",
       "      <td>08/18/18 11:01</td>\n",
       "      <td>09/07/18 16:29</td>\n",
       "      <td>Normal sinus rhythm\\r\\nIntraventricular conduc...</td>\n",
       "      <td>Shiroff</td>\n",
       "      <td>Robert</td>\n",
       "      <td>F</td>\n",
       "      <td>NaN</td>\n",
       "    </tr>\n",
       "  </tbody>\n",
       "</table>\n",
       "</div>"
      ],
      "text/plain": [
       "   Exam ID Patient ID Patient Last, First  Age         DOB   Received Time  \\\n",
       "0   389081     DCP001              EV, EV   38  10/11/1980  09/07/18 09:31   \n",
       "1   389107     DCP002              RF, RF   52   3/24/1966  09/07/18 09:31   \n",
       "2   389106     DCP002              RF, RF   52   3/24/1966  09/07/18 09:31   \n",
       "3   389088     DCP003              JE, JE   46    1/5/1972  09/07/18 09:31   \n",
       "4   389109     DCP004              RK, RK   36   12/2/1981  09/07/18 09:31   \n",
       "\n",
       "       Study Time  Completed Time  \\\n",
       "0  08/18/18 02:19  09/07/18 16:27   \n",
       "1  08/18/18 15:43  09/07/18 17:24   \n",
       "2  08/18/18 10:42  09/07/18 17:00   \n",
       "3  08/18/18 10:46  09/07/18 16:49   \n",
       "4  08/18/18 11:01  09/07/18 16:29   \n",
       "\n",
       "                                           Over Read Physician<br />Last Name  \\\n",
       "0        Normal sinus rhythm\\r\\nWithin normal limits                  Shiroff   \n",
       "1  Normal sinus rhythm\\r\\nSlow R wave V1-3\\r\\nMay...                  Shiroff   \n",
       "2  Normal sinus rhythm\\r\\nSlow R wave progression...                  Shiroff   \n",
       "3  Normal sinus rhythm\\r\\nBorderline low voltage ...                  Shiroff   \n",
       "4  Normal sinus rhythm\\r\\nIntraventricular conduc...                  Shiroff   \n",
       "\n",
       "  Physician<br />First Name Gender  Notes  \n",
       "0                    Robert      F    NaN  \n",
       "1                    Robert      M    NaN  \n",
       "2                    Robert      M    NaN  \n",
       "3                    Robert      F    NaN  \n",
       "4                    Robert      F    NaN  "
      ]
     },
     "execution_count": 3,
     "metadata": {},
     "output_type": "execute_result"
    }
   ],
   "source": [
    "dcp.head(5)"
   ]
  },
  {
   "cell_type": "code",
   "execution_count": 4,
   "metadata": {},
   "outputs": [
    {
     "name": "stdout",
     "output_type": "stream",
     "text": [
      "<class 'pandas.core.frame.DataFrame'>\n",
      "RangeIndex: 29 entries, 0 to 28\n",
      "Data columns (total 13 columns):\n",
      "Exam ID                      29 non-null int64\n",
      "Patient ID                   29 non-null object\n",
      "Patient Last, First          29 non-null object\n",
      "Age                          29 non-null int64\n",
      "DOB                          29 non-null object\n",
      "Received Time                29 non-null object\n",
      "Study Time                   29 non-null object\n",
      "Completed Time               29 non-null object\n",
      "Over Read                    29 non-null object\n",
      "Physician<br />Last Name     29 non-null object\n",
      "Physician<br />First Name    29 non-null object\n",
      "Gender                       29 non-null object\n",
      "Notes                        0 non-null float64\n",
      "dtypes: float64(1), int64(2), object(10)\n",
      "memory usage: 3.0+ KB\n"
     ]
    }
   ],
   "source": [
    "dcp.info()"
   ]
  },
  {
   "cell_type": "markdown",
   "metadata": {},
   "source": [
    "## Need Modify Issues\n",
    "\n",
    "1. Cloumn Names need to modify\n",
    "    * Replace spaces with underscores\n",
    "    * Remove special characters\n",
    "    * Make all labels to lowercase\n",
    "    * Shorten any long column names\n",
    "2. Convert columns to numeric if need\n",
    "3. Change data to DateTime if data is date\n",
    "----\n",
    "Continue Adding"
   ]
  },
  {
   "cell_type": "markdown",
   "metadata": {},
   "source": [
    "## 1. Column Names need to modify"
   ]
  },
  {
   "cell_type": "code",
   "execution_count": 5,
   "metadata": {},
   "outputs": [
    {
     "data": {
      "text/plain": [
       "Index(['Exam ID', 'Patient ID', 'Patient Last, First', 'Age', 'DOB',\n",
       "       'Received Time', 'Study Time', 'Completed Time', 'Over Read',\n",
       "       'Physician<br />Last Name', 'Physician<br />First Name', 'Gender',\n",
       "       'Notes'],\n",
       "      dtype='object')"
      ]
     },
     "execution_count": 5,
     "metadata": {},
     "output_type": "execute_result"
    }
   ],
   "source": [
    "dcp.columns"
   ]
  },
  {
   "cell_type": "code",
   "execution_count": 6,
   "metadata": {},
   "outputs": [
    {
     "data": {
      "text/plain": [
       "Index(['exam_id', 'patient_id', 'patient_last_first', 'age', 'dob',\n",
       "       'received_time', 'study_time', 'completed_time', 'over_read',\n",
       "       'physician_last_name', 'physician_first_name', 'gender', 'notes'],\n",
       "      dtype='object')"
      ]
     },
     "execution_count": 6,
     "metadata": {},
     "output_type": "execute_result"
    }
   ],
   "source": [
    "def clean_col(col):\n",
    "    col = col.strip() # remove whitespaces\n",
    "    col = col.replace(\" \", \"_\") # replace spaces to _\n",
    "    col = col.replace(\"<\", \"\")\n",
    "    col = col.replace(\"br\",\"\")\n",
    "    col = col.replace(\"/\",\"\")\n",
    "    col = col.replace(\">\",\"\")\n",
    "    col = col.replace(\",\",\"\")\n",
    "    col = col.lower() # lowercase all names\n",
    "    return col\n",
    "\n",
    "new_column = []\n",
    "for x in dcp.columns:\n",
    "    clean = clean_col(x)\n",
    "    new_column.append(clean)\n",
    "    \n",
    "dcp.columns = new_column\n",
    "dcp.columns"
   ]
  },
  {
   "cell_type": "code",
   "execution_count": 7,
   "metadata": {},
   "outputs": [
    {
     "data": {
      "text/plain": [
       "array(['DCP001', 'DCP002', 'DCP003', 'DCP004', 'DCP005', 'DCP006',\n",
       "       'DCP007', 'DCP008', 'DCP010', 'DCP011', 'DCP012', 'DCP013',\n",
       "       'DCP014', 'DCP015', 'DCP016', 'DCP017', 'DCP018', 'DCP019',\n",
       "       'DCP020', 'DCP021', 'DCP022', 'DCP023', 'DCP024', 'DCP025',\n",
       "       'DCP026', 'DCP027', 'DCP029', 'DCP030'], dtype=object)"
      ]
     },
     "execution_count": 7,
     "metadata": {},
     "output_type": "execute_result"
    }
   ],
   "source": [
    "dcp[\"patient_id\"].unique()"
   ]
  },
  {
   "cell_type": "code",
   "execution_count": 8,
   "metadata": {},
   "outputs": [
    {
     "data": {
      "text/plain": [
       "array(['001', '002', '003', '004', '005', '006', '007', '008', '010',\n",
       "       '011', '012', '013', '014', '015', '016', '017', '018', '019',\n",
       "       '020', '021', '022', '023', '024', '025', '026', '027', '029',\n",
       "       '030'], dtype=object)"
      ]
     },
     "execution_count": 8,
     "metadata": {},
     "output_type": "execute_result"
    }
   ],
   "source": [
    "dcp[\"patient_id\"] = dcp[\"patient_id\"].str.replace(\"DCP\", \"\")\n",
    "dcp[\"patient_id\"].unique()"
   ]
  },
  {
   "cell_type": "markdown",
   "metadata": {},
   "source": [
    "## 2. Convert Column to numeric"
   ]
  },
  {
   "cell_type": "code",
   "execution_count": 9,
   "metadata": {},
   "outputs": [
    {
     "data": {
      "text/plain": [
       "exam_id                   int64\n",
       "patient_id                int32\n",
       "patient_last_first       object\n",
       "age                       int64\n",
       "dob                      object\n",
       "received_time            object\n",
       "study_time               object\n",
       "completed_time           object\n",
       "over_read                object\n",
       "physician_last_name      object\n",
       "physician_first_name     object\n",
       "gender                   object\n",
       "notes                   float64\n",
       "dtype: object"
      ]
     },
     "execution_count": 9,
     "metadata": {},
     "output_type": "execute_result"
    }
   ],
   "source": [
    "dcp[\"patient_id\"] = dcp[\"patient_id\"].astype(int)\n",
    "dcp.dtypes"
   ]
  },
  {
   "cell_type": "markdown",
   "metadata": {},
   "source": [
    "## Shorten long column name and data"
   ]
  },
  {
   "cell_type": "code",
   "execution_count": 10,
   "metadata": {},
   "outputs": [
    {
     "data": {
      "text/plain": [
       "array(['EV, EV', 'RF, RF', 'JE, JE', 'RK, RK', 'JT, JT', 'JA, JA',\n",
       "       'BG, BG', 'AN, AN', 'JB, JB', 'DR, DR', 'TL, TL', 'NL, NL',\n",
       "       'JV, JV', 'VM, VM', 'PZ, PZ', 'HB, HB', 'MB, MB', 'BY, BY',\n",
       "       'VP, VP', 'CP, CP', 'CA, CA', 'JEH, JEH', 'SS, SS', 'LV, LV',\n",
       "       'AM, AM', 'DF, DF', 'NC, NC'], dtype=object)"
      ]
     },
     "execution_count": 10,
     "metadata": {},
     "output_type": "execute_result"
    }
   ],
   "source": [
    "dcp[\"patient_last_first\"].unique()"
   ]
  },
  {
   "cell_type": "code",
   "execution_count": 11,
   "metadata": {},
   "outputs": [
    {
     "data": {
      "text/plain": [
       "array(['EV,', 'RF,', 'JE,', 'RK,', 'JT,', 'JA,', 'BG,', 'AN,', 'JB,',\n",
       "       'DR,', 'TL,', 'NL,', 'JV,', 'VM,', 'PZ,', 'HB,', 'MB,', 'BY,',\n",
       "       'VP,', 'CP,', 'CA,', 'JEH,', 'SS,', 'LV,', 'AM,', 'DF,', 'NC,'],\n",
       "      dtype=object)"
      ]
     },
     "execution_count": 11,
     "metadata": {},
     "output_type": "execute_result"
    }
   ],
   "source": [
    "dcp[\"patient_last_first\"] = dcp[\"patient_last_first\"].str.split().str[0]\n",
    "dcp[\"patient_last_first\"].unique()"
   ]
  },
  {
   "cell_type": "code",
   "execution_count": 12,
   "metadata": {},
   "outputs": [
    {
     "data": {
      "text/plain": [
       "array(['EV', 'RF', 'JE', 'RK', 'JT', 'JA', 'BG', 'AN', 'JB', 'DR', 'TL',\n",
       "       'NL', 'JV', 'VM', 'PZ', 'HB', 'MB', 'BY', 'VP', 'CP', 'CA', 'JEH',\n",
       "       'SS', 'LV', 'AM', 'DF', 'NC'], dtype=object)"
      ]
     },
     "execution_count": 12,
     "metadata": {},
     "output_type": "execute_result"
    }
   ],
   "source": [
    "dcp[\"patient_last_first\"] = dcp[\"patient_last_first\"].str.replace(\",\", \"\")\n",
    "dcp[\"patient_last_first\"].unique()"
   ]
  },
  {
   "cell_type": "code",
   "execution_count": 13,
   "metadata": {},
   "outputs": [
    {
     "data": {
      "text/plain": [
       "exam_id                   int64\n",
       "patient_id                int32\n",
       "patient_name             object\n",
       "age                       int64\n",
       "dob                      object\n",
       "received_time            object\n",
       "study_time               object\n",
       "completed_time           object\n",
       "over_read                object\n",
       "physician_last_name      object\n",
       "physician_first_name     object\n",
       "gender                   object\n",
       "notes                   float64\n",
       "dtype: object"
      ]
     },
     "execution_count": 13,
     "metadata": {},
     "output_type": "execute_result"
    }
   ],
   "source": [
    "dcp.rename({\"patient_last_first\": \"patient_name\"}, axis =1,\n",
    "          inplace = True)\n",
    "dcp.dtypes"
   ]
  },
  {
   "cell_type": "code",
   "execution_count": 14,
   "metadata": {},
   "outputs": [
    {
     "data": {
      "text/plain": [
       "exam_id                          int64\n",
       "patient_id                       int32\n",
       "patient_name                    object\n",
       "age                              int64\n",
       "dob                     datetime64[ns]\n",
       "received_time                   object\n",
       "study_time                      object\n",
       "completed_time                  object\n",
       "over_read                       object\n",
       "physician_last_name             object\n",
       "physician_first_name            object\n",
       "gender                          object\n",
       "notes                          float64\n",
       "dtype: object"
      ]
     },
     "execution_count": 14,
     "metadata": {},
     "output_type": "execute_result"
    }
   ],
   "source": [
    "dcp[\"dob\"] = pd.to_datetime(dcp[\"dob\"])\n",
    "dcp.dtypes"
   ]
  },
  {
   "cell_type": "code",
   "execution_count": 15,
   "metadata": {},
   "outputs": [
    {
     "data": {
      "text/html": [
       "<div>\n",
       "<style scoped>\n",
       "    .dataframe tbody tr th:only-of-type {\n",
       "        vertical-align: middle;\n",
       "    }\n",
       "\n",
       "    .dataframe tbody tr th {\n",
       "        vertical-align: top;\n",
       "    }\n",
       "\n",
       "    .dataframe thead th {\n",
       "        text-align: right;\n",
       "    }\n",
       "</style>\n",
       "<table border=\"1\" class=\"dataframe\">\n",
       "  <thead>\n",
       "    <tr style=\"text-align: right;\">\n",
       "      <th></th>\n",
       "      <th>exam_id</th>\n",
       "      <th>patient_id</th>\n",
       "      <th>patient_name</th>\n",
       "      <th>age</th>\n",
       "      <th>dob</th>\n",
       "      <th>received_time</th>\n",
       "      <th>study_time</th>\n",
       "      <th>completed_time</th>\n",
       "      <th>over_read</th>\n",
       "      <th>physician_last_name</th>\n",
       "      <th>physician_first_name</th>\n",
       "      <th>gender</th>\n",
       "      <th>notes</th>\n",
       "    </tr>\n",
       "  </thead>\n",
       "  <tbody>\n",
       "    <tr>\n",
       "      <th>0</th>\n",
       "      <td>389081</td>\n",
       "      <td>1</td>\n",
       "      <td>EV</td>\n",
       "      <td>38</td>\n",
       "      <td>1980-10-11</td>\n",
       "      <td>09/07/18 09:31</td>\n",
       "      <td>08/18/18 02:19</td>\n",
       "      <td>09/07/18 16:27</td>\n",
       "      <td>Normal sinus rhythm\\r\\nWithin normal limits</td>\n",
       "      <td>Shiroff</td>\n",
       "      <td>Robert</td>\n",
       "      <td>F</td>\n",
       "      <td>NaN</td>\n",
       "    </tr>\n",
       "    <tr>\n",
       "      <th>1</th>\n",
       "      <td>389107</td>\n",
       "      <td>2</td>\n",
       "      <td>RF</td>\n",
       "      <td>52</td>\n",
       "      <td>1966-03-24</td>\n",
       "      <td>09/07/18 09:31</td>\n",
       "      <td>08/18/18 15:43</td>\n",
       "      <td>09/07/18 17:24</td>\n",
       "      <td>Normal sinus rhythm\\r\\nSlow R wave V1-3\\r\\nMay...</td>\n",
       "      <td>Shiroff</td>\n",
       "      <td>Robert</td>\n",
       "      <td>M</td>\n",
       "      <td>NaN</td>\n",
       "    </tr>\n",
       "    <tr>\n",
       "      <th>2</th>\n",
       "      <td>389106</td>\n",
       "      <td>2</td>\n",
       "      <td>RF</td>\n",
       "      <td>52</td>\n",
       "      <td>1966-03-24</td>\n",
       "      <td>09/07/18 09:31</td>\n",
       "      <td>08/18/18 10:42</td>\n",
       "      <td>09/07/18 17:00</td>\n",
       "      <td>Normal sinus rhythm\\r\\nSlow R wave progression...</td>\n",
       "      <td>Shiroff</td>\n",
       "      <td>Robert</td>\n",
       "      <td>M</td>\n",
       "      <td>NaN</td>\n",
       "    </tr>\n",
       "    <tr>\n",
       "      <th>3</th>\n",
       "      <td>389088</td>\n",
       "      <td>3</td>\n",
       "      <td>JE</td>\n",
       "      <td>46</td>\n",
       "      <td>1972-01-05</td>\n",
       "      <td>09/07/18 09:31</td>\n",
       "      <td>08/18/18 10:46</td>\n",
       "      <td>09/07/18 16:49</td>\n",
       "      <td>Normal sinus rhythm\\r\\nBorderline low voltage ...</td>\n",
       "      <td>Shiroff</td>\n",
       "      <td>Robert</td>\n",
       "      <td>F</td>\n",
       "      <td>NaN</td>\n",
       "    </tr>\n",
       "    <tr>\n",
       "      <th>4</th>\n",
       "      <td>389109</td>\n",
       "      <td>4</td>\n",
       "      <td>RK</td>\n",
       "      <td>36</td>\n",
       "      <td>1981-12-02</td>\n",
       "      <td>09/07/18 09:31</td>\n",
       "      <td>08/18/18 11:01</td>\n",
       "      <td>09/07/18 16:29</td>\n",
       "      <td>Normal sinus rhythm\\r\\nIntraventricular conduc...</td>\n",
       "      <td>Shiroff</td>\n",
       "      <td>Robert</td>\n",
       "      <td>F</td>\n",
       "      <td>NaN</td>\n",
       "    </tr>\n",
       "  </tbody>\n",
       "</table>\n",
       "</div>"
      ],
      "text/plain": [
       "   exam_id  patient_id patient_name  age        dob   received_time  \\\n",
       "0   389081           1           EV   38 1980-10-11  09/07/18 09:31   \n",
       "1   389107           2           RF   52 1966-03-24  09/07/18 09:31   \n",
       "2   389106           2           RF   52 1966-03-24  09/07/18 09:31   \n",
       "3   389088           3           JE   46 1972-01-05  09/07/18 09:31   \n",
       "4   389109           4           RK   36 1981-12-02  09/07/18 09:31   \n",
       "\n",
       "       study_time  completed_time  \\\n",
       "0  08/18/18 02:19  09/07/18 16:27   \n",
       "1  08/18/18 15:43  09/07/18 17:24   \n",
       "2  08/18/18 10:42  09/07/18 17:00   \n",
       "3  08/18/18 10:46  09/07/18 16:49   \n",
       "4  08/18/18 11:01  09/07/18 16:29   \n",
       "\n",
       "                                           over_read physician_last_name  \\\n",
       "0        Normal sinus rhythm\\r\\nWithin normal limits             Shiroff   \n",
       "1  Normal sinus rhythm\\r\\nSlow R wave V1-3\\r\\nMay...             Shiroff   \n",
       "2  Normal sinus rhythm\\r\\nSlow R wave progression...             Shiroff   \n",
       "3  Normal sinus rhythm\\r\\nBorderline low voltage ...             Shiroff   \n",
       "4  Normal sinus rhythm\\r\\nIntraventricular conduc...             Shiroff   \n",
       "\n",
       "  physician_first_name gender  notes  \n",
       "0               Robert      F    NaN  \n",
       "1               Robert      M    NaN  \n",
       "2               Robert      M    NaN  \n",
       "3               Robert      F    NaN  \n",
       "4               Robert      F    NaN  "
      ]
     },
     "execution_count": 15,
     "metadata": {},
     "output_type": "execute_result"
    }
   ],
   "source": [
    "dcp.head()"
   ]
  },
  {
   "cell_type": "code",
   "execution_count": 16,
   "metadata": {},
   "outputs": [
    {
     "data": {
      "text/plain": [
       "exam_id                          int64\n",
       "patient_id                       int32\n",
       "patient_name                    object\n",
       "age                              int64\n",
       "dob                     datetime64[ns]\n",
       "received_time                   object\n",
       "study_time                      object\n",
       "completed_time                  object\n",
       "over_read                       object\n",
       "physician_last_name             object\n",
       "physician_first_name            object\n",
       "gender                          object\n",
       "notes                          float64\n",
       "physician_name                  object\n",
       "dtype: object"
      ]
     },
     "execution_count": 16,
     "metadata": {},
     "output_type": "execute_result"
    }
   ],
   "source": [
    "dcp[\"physician_name\"] = dcp[\"physician_last_name\"].values + dcp[\"physician_first_name\"].values\n",
    "dcp.dtypes"
   ]
  },
  {
   "cell_type": "code",
   "execution_count": 17,
   "metadata": {},
   "outputs": [
    {
     "data": {
      "text/plain": [
       "array([' ShiroffRobert', ' ShiroffRobert', ' ShiroffRobert',\n",
       "       ' ShiroffRobert', ' ShiroffRobert', ' ShiroffRobert',\n",
       "       ' ShiroffRobert', ' ShiroffRobert', ' ShiroffRobert',\n",
       "       ' ShiroffRobert', ' ShiroffRobert', ' ShiroffRobert',\n",
       "       ' ShiroffRobert', ' ShiroffRobert', ' ShiroffRobert',\n",
       "       ' ShiroffRobert', ' ShiroffRobert', ' ShiroffRobert',\n",
       "       ' ShiroffRobert', ' ShiroffRobert', ' ShiroffRobert',\n",
       "       ' ShiroffRobert', ' ShiroffRobert', ' ShiroffRobert',\n",
       "       ' ShiroffRobert', ' ShiroffRobert', ' ShiroffRobert',\n",
       "       ' ShiroffRobert', ' ShiroffRobert'], dtype=object)"
      ]
     },
     "execution_count": 17,
     "metadata": {},
     "output_type": "execute_result"
    }
   ],
   "source": [
    "dcp[\"physician_name\"].values"
   ]
  },
  {
   "cell_type": "code",
   "execution_count": 18,
   "metadata": {},
   "outputs": [
    {
     "data": {
      "text/plain": [
       "array(['shiroff_robert', 'shiroff_robert', 'shiroff_robert',\n",
       "       'shiroff_robert', 'shiroff_robert', 'shiroff_robert',\n",
       "       'shiroff_robert', 'shiroff_robert', 'shiroff_robert',\n",
       "       'shiroff_robert', 'shiroff_robert', 'shiroff_robert',\n",
       "       'shiroff_robert', 'shiroff_robert', 'shiroff_robert',\n",
       "       'shiroff_robert', 'shiroff_robert', 'shiroff_robert',\n",
       "       'shiroff_robert', 'shiroff_robert', 'shiroff_robert',\n",
       "       'shiroff_robert', 'shiroff_robert', 'shiroff_robert',\n",
       "       'shiroff_robert', 'shiroff_robert', 'shiroff_robert',\n",
       "       'shiroff_robert', 'shiroff_robert'], dtype=object)"
      ]
     },
     "execution_count": 18,
     "metadata": {},
     "output_type": "execute_result"
    }
   ],
   "source": [
    "dcp[\"physician_name\"] = dcp[\"physician_name\"].str.replace(\"ShiroffRobert\", \"shiroff_robert\").str.strip()\n",
    "dcp[\"physician_name\"].values"
   ]
  },
  {
   "cell_type": "code",
   "execution_count": 19,
   "metadata": {},
   "outputs": [
    {
     "data": {
      "text/plain": [
       "exam_id                          int64\n",
       "patient_id                       int32\n",
       "patient_name                    object\n",
       "age                              int64\n",
       "dob                     datetime64[ns]\n",
       "received_time                   object\n",
       "study_time                      object\n",
       "completed_time          datetime64[ns]\n",
       "over_read                       object\n",
       "physician_last_name             object\n",
       "physician_first_name            object\n",
       "gender                          object\n",
       "notes                          float64\n",
       "physician_name                  object\n",
       "dtype: object"
      ]
     },
     "execution_count": 19,
     "metadata": {},
     "output_type": "execute_result"
    }
   ],
   "source": [
    "dcp[\"completed_time\"] = pd.to_datetime(dcp[\"completed_time\"])\n",
    "dcp.dtypes"
   ]
  },
  {
   "cell_type": "code",
   "execution_count": 20,
   "metadata": {},
   "outputs": [],
   "source": [
    "%matplotlib inline  \n",
    "import matplotlib.pyplot as plt"
   ]
  },
  {
   "cell_type": "code",
   "execution_count": 28,
   "metadata": {},
   "outputs": [
    {
     "data": {
      "image/png": "[encoded data removed]",
      "text/plain": [
       "<Figure size 432x288 with 1 Axes>"
      ]
     },
     "metadata": {
      "needs_background": "light"
     },
     "output_type": "display_data"
    }
   ],
   "source": [
    "y_values = dcp[\"age\"]\n",
    "x_values = dcp[\"gender\"]\n",
    "plt.scatter(x_values, y_values)\n",
    "plt.show()"
   ]
  },
  {
   "cell_type": "code",
   "execution_count": 22,
   "metadata": {},
   "outputs": [
    {
     "data": {
      "text/html": [
       "<div>\n",
       "<style scoped>\n",
       "    .dataframe tbody tr th:only-of-type {\n",
       "        vertical-align: middle;\n",
       "    }\n",
       "\n",
       "    .dataframe tbody tr th {\n",
       "        vertical-align: top;\n",
       "    }\n",
       "\n",
       "    .dataframe thead th {\n",
       "        text-align: right;\n",
       "    }\n",
       "</style>\n",
       "<table border=\"1\" class=\"dataframe\">\n",
       "  <thead>\n",
       "    <tr style=\"text-align: right;\">\n",
       "      <th></th>\n",
       "      <th>exam_id</th>\n",
       "      <th>patient_id</th>\n",
       "      <th>patient_name</th>\n",
       "      <th>age</th>\n",
       "      <th>dob</th>\n",
       "      <th>received_time</th>\n",
       "      <th>study_time</th>\n",
       "      <th>completed_time</th>\n",
       "      <th>over_read</th>\n",
       "      <th>physician_last_name</th>\n",
       "      <th>physician_first_name</th>\n",
       "      <th>gender</th>\n",
       "      <th>notes</th>\n",
       "      <th>physician_name</th>\n",
       "    </tr>\n",
       "  </thead>\n",
       "  <tbody>\n",
       "    <tr>\n",
       "      <th>0</th>\n",
       "      <td>389081</td>\n",
       "      <td>1</td>\n",
       "      <td>EV</td>\n",
       "      <td>38</td>\n",
       "      <td>1980-10-11</td>\n",
       "      <td>09/07/18 09:31</td>\n",
       "      <td>08/18/18 02:19</td>\n",
       "      <td>2018-09-07 16:27:00</td>\n",
       "      <td>Normal sinus rhythm\\r\\nWithin normal limits</td>\n",
       "      <td>Shiroff</td>\n",
       "      <td>Robert</td>\n",
       "      <td>F</td>\n",
       "      <td>NaN</td>\n",
       "      <td>shiroff_robert</td>\n",
       "    </tr>\n",
       "    <tr>\n",
       "      <th>1</th>\n",
       "      <td>389107</td>\n",
       "      <td>2</td>\n",
       "      <td>RF</td>\n",
       "      <td>52</td>\n",
       "      <td>1966-03-24</td>\n",
       "      <td>09/07/18 09:31</td>\n",
       "      <td>08/18/18 15:43</td>\n",
       "      <td>2018-09-07 17:24:00</td>\n",
       "      <td>Normal sinus rhythm\\r\\nSlow R wave V1-3\\r\\nMay...</td>\n",
       "      <td>Shiroff</td>\n",
       "      <td>Robert</td>\n",
       "      <td>M</td>\n",
       "      <td>NaN</td>\n",
       "      <td>shiroff_robert</td>\n",
       "    </tr>\n",
       "    <tr>\n",
       "      <th>2</th>\n",
       "      <td>389106</td>\n",
       "      <td>2</td>\n",
       "      <td>RF</td>\n",
       "      <td>52</td>\n",
       "      <td>1966-03-24</td>\n",
       "      <td>09/07/18 09:31</td>\n",
       "      <td>08/18/18 10:42</td>\n",
       "      <td>2018-09-07 17:00:00</td>\n",
       "      <td>Normal sinus rhythm\\r\\nSlow R wave progression...</td>\n",
       "      <td>Shiroff</td>\n",
       "      <td>Robert</td>\n",
       "      <td>M</td>\n",
       "      <td>NaN</td>\n",
       "      <td>shiroff_robert</td>\n",
       "    </tr>\n",
       "    <tr>\n",
       "      <th>3</th>\n",
       "      <td>389088</td>\n",
       "      <td>3</td>\n",
       "      <td>JE</td>\n",
       "      <td>46</td>\n",
       "      <td>1972-01-05</td>\n",
       "      <td>09/07/18 09:31</td>\n",
       "      <td>08/18/18 10:46</td>\n",
       "      <td>2018-09-07 16:49:00</td>\n",
       "      <td>Normal sinus rhythm\\r\\nBorderline low voltage ...</td>\n",
       "      <td>Shiroff</td>\n",
       "      <td>Robert</td>\n",
       "      <td>F</td>\n",
       "      <td>NaN</td>\n",
       "      <td>shiroff_robert</td>\n",
       "    </tr>\n",
       "    <tr>\n",
       "      <th>4</th>\n",
       "      <td>389109</td>\n",
       "      <td>4</td>\n",
       "      <td>RK</td>\n",
       "      <td>36</td>\n",
       "      <td>1981-12-02</td>\n",
       "      <td>09/07/18 09:31</td>\n",
       "      <td>08/18/18 11:01</td>\n",
       "      <td>2018-09-07 16:29:00</td>\n",
       "      <td>Normal sinus rhythm\\r\\nIntraventricular conduc...</td>\n",
       "      <td>Shiroff</td>\n",
       "      <td>Robert</td>\n",
       "      <td>F</td>\n",
       "      <td>NaN</td>\n",
       "      <td>shiroff_robert</td>\n",
       "    </tr>\n",
       "  </tbody>\n",
       "</table>\n",
       "</div>"
      ],
      "text/plain": [
       "   exam_id  patient_id patient_name  age        dob   received_time  \\\n",
       "0   389081           1           EV   38 1980-10-11  09/07/18 09:31   \n",
       "1   389107           2           RF   52 1966-03-24  09/07/18 09:31   \n",
       "2   389106           2           RF   52 1966-03-24  09/07/18 09:31   \n",
       "3   389088           3           JE   46 1972-01-05  09/07/18 09:31   \n",
       "4   389109           4           RK   36 1981-12-02  09/07/18 09:31   \n",
       "\n",
       "       study_time      completed_time  \\\n",
       "0  08/18/18 02:19 2018-09-07 16:27:00   \n",
       "1  08/18/18 15:43 2018-09-07 17:24:00   \n",
       "2  08/18/18 10:42 2018-09-07 17:00:00   \n",
       "3  08/18/18 10:46 2018-09-07 16:49:00   \n",
       "4  08/18/18 11:01 2018-09-07 16:29:00   \n",
       "\n",
       "                                           over_read physician_last_name  \\\n",
       "0        Normal sinus rhythm\\r\\nWithin normal limits             Shiroff   \n",
       "1  Normal sinus rhythm\\r\\nSlow R wave V1-3\\r\\nMay...             Shiroff   \n",
       "2  Normal sinus rhythm\\r\\nSlow R wave progression...             Shiroff   \n",
       "3  Normal sinus rhythm\\r\\nBorderline low voltage ...             Shiroff   \n",
       "4  Normal sinus rhythm\\r\\nIntraventricular conduc...             Shiroff   \n",
       "\n",
       "  physician_first_name gender  notes  physician_name  \n",
       "0               Robert      F    NaN  shiroff_robert  \n",
       "1               Robert      M    NaN  shiroff_robert  \n",
       "2               Robert      M    NaN  shiroff_robert  \n",
       "3               Robert      F    NaN  shiroff_robert  \n",
       "4               Robert      F    NaN  shiroff_robert  "
      ]
     },
     "execution_count": 22,
     "metadata": {},
     "output_type": "execute_result"
    }
   ],
   "source": [
    "dcp.head()"
   ]
  },
  {
   "cell_type": "code",
   "execution_count": 24,
   "metadata": {},
   "outputs": [
    {
     "name": "stdout",
     "output_type": "stream",
     "text": [
      "<class 'pandas.core.frame.DataFrame'>\n",
      "RangeIndex: 29 entries, 0 to 28\n",
      "Data columns (total 14 columns):\n",
      "exam_id                 29 non-null int64\n",
      "patient_id              29 non-null int32\n",
      "patient_name            29 non-null object\n",
      "age                     29 non-null int64\n",
      "dob                     29 non-null datetime64[ns]\n",
      "received_time           29 non-null object\n",
      "study_time              29 non-null object\n",
      "completed_time          29 non-null datetime64[ns]\n",
      "over_read               29 non-null object\n",
      "physician_last_name     29 non-null object\n",
      "physician_first_name    29 non-null object\n",
      "gender                  29 non-null object\n",
      "notes                   0 non-null float64\n",
      "physician_name          29 non-null object\n",
      "dtypes: datetime64[ns](2), float64(1), int32(1), int64(2), object(8)\n",
      "memory usage: 3.1+ KB\n"
     ]
    }
   ],
   "source": [
    "dcp.info()"
   ]
  },
  {
   "cell_type": "code",
   "execution_count": null,
   "metadata": {},
   "outputs": [],
   "source": []
  }
 ],
 "metadata": {
  "kernelspec": {
   "display_name": "Python 3",
   "language": "python",
   "name": "python3"
  },
  "language_info": {
   "codemirror_mode": {
    "name": "ipython",
    "version": 3
   },
   "file_extension": ".py",
   "mimetype": "text/x-python",
   "name": "python",
   "nbconvert_exporter": "python",
   "pygments_lexer": "ipython3",
   "version": "3.7.1"
  }
 },
 "nbformat": 4,
 "nbformat_minor": 2
}
